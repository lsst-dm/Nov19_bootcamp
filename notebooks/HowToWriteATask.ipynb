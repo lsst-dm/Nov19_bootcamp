{
 "cells": [
  {
   "attachments": {},
   "cell_type": "markdown",
   "metadata": {},
   "source": [
    "## How to write a `Task`\n",
    "---\n",
    "\n",
    "**TL;DR If you take one thing away from this talk, it is\n",
    "go to http://pipelines.lsst.io, then click on [lsst.pipe.base](https://pipelines.lsst.io/modules/lsst.pipe.base/index.html).** \n",
    "\n",
    "\n",
    "---\n",
    "On the landing page for `lsst.pipe.base` documenation https://pipelines.lsst.io/modules/lsst.pipe.base/index.html, you'll see a number of tutorials on how to use `Tasks` and how to create one. \n",
    "\n",
    "\n",
    "\n",
    "`CmdlineTask` extends `Task` with commandline driver utils for use with Gen2 Butlers, and will be deprecated soon. However, not all the links under \"CommandlineTask\" will become obsolete. For example, [Retargeting subtasks of command-line tasks](https://pipelines.lsst.io/modules/lsst.pipe.base/command-line-task-retargeting-howto.html) will live on.\n",
    "\n",
    "In this talk, we'll only quickly go over the prerequisites for understanding the `PipelineTask`:\n",
    "\n",
    "1. https://pipelines.lsst.io/modules/lsst.pipe.base/task-framework-overview.html\n",
    "2. https://pipelines.lsst.io/modules/lsst.pipe.base/creating-a-task.html\n",
    "\n",
    "For more background info, I highly recommend you look at Russell's 2015 Bootcamp treatment of `Tasks`: [pptx slides](https://github.com/lsst-dm/Oct15_bootcamp/blob/master/documents/writing%20a%20task.pptx?raw=true) and [video](https://vimeo.com/album/3606100/video/142210167)\n",
    "\n",
    "---\n",
    "\n",
    "### What is a Task?\n",
    "Tasks implement astronomical data processing functionality. They are:\n",
    "* **Configurable**: Modify a task’s behavior by changing its configuration. Automatically apply camera-specific modifications\n",
    "* **Hierarchical**: Tasks can call other tasks as subtasks\n",
    "* **Extensible:** Replace (“retarget”) any subtask with a variant. Write your own subclass of a task.\n",
    "\n",
    "\n",
    "### Using a Task:"
   ]
  },
  {
   "cell_type": "code",
   "execution_count": 1,
   "metadata": {},
   "outputs": [],
   "source": [
    "# Edited highlights of ${PIPE_TASKS_DIR}/example/exampleStatsTask.py\n",
    "import sys\n",
    "import numpy as np\n",
    "from lsst.geom import Box2I, Point2I, Extent2I\n",
    "from lsst.afw.image import MaskedImageF\n",
    "from lsst.pipe.tasks.exampleStatsTasks import ExampleSimpleStatsTask, ExampleSigmaClippedStatsTask"
   ]
  },
  {
   "cell_type": "code",
   "execution_count": 2,
   "metadata": {},
   "outputs": [
    {
     "name": "stdout",
     "output_type": "stream",
     "text": [
      "Struct(mean=11.37018704397138; meanErr=0.6982692625096175; stdDev=19.7500372245872; stdDevErr=0.49344223978699775)\n"
     ]
    }
   ],
   "source": [
    "# Load a MaskedImageF -- an image containing floats\n",
    "# together with a mask and a per-pixel variance.\n",
    "\n",
    "WIDTH = 40\n",
    "HEIGHT = 20\n",
    "\n",
    "maskedImage = MaskedImageF(Box2I(Point2I(10, 20),\n",
    "                                 Extent2I(WIDTH, HEIGHT)))\n",
    "x = np.random.normal(10, 20, size=WIDTH*HEIGHT)\n",
    "\n",
    "# Because we are shoving it into an ImageF and numpy defaults\n",
    "# to double precision\n",
    "X = x.reshape(HEIGHT, WIDTH).astype(np.float32)  \n",
    "im = maskedImage.image\n",
    "im.array = X\n",
    "\n",
    "# We initialize the Task once but can call it many times.\n",
    "task = ExampleSimpleStatsTask()\n",
    "\n",
    "# Simply call the .run() method with the MaskedImageF.\n",
    "result = task.run(maskedImage)\n",
    "\n",
    "# And print the result.\n",
    "print(result)"
   ]
  },
  {
   "cell_type": "markdown",
   "metadata": {},
   "source": [
    "## Using a Task with configuration"
   ]
  },
  {
   "cell_type": "code",
   "execution_count": 3,
   "metadata": {},
   "outputs": [
    {
     "name": "stdout",
     "output_type": "stream",
     "text": [
      "11.08069926686585\n",
      "11.37018704397138\n"
     ]
    }
   ],
   "source": [
    "# Edited highlights of ${PIPE_TASKS_DIR}/example/exampleStatsTask.py\n",
    "\n",
    "config1 = ExampleSigmaClippedStatsTask.ConfigClass(numSigmaClip=1)\n",
    "\n",
    "config2 = ExampleSigmaClippedStatsTask.ConfigClass()\n",
    "config2.numSigmaClip = 3\n",
    "\n",
    "task1 = ExampleSigmaClippedStatsTask(config=config1)\n",
    "task2 = ExampleSigmaClippedStatsTask(config=config2)\n",
    "\n",
    "print(task1.run(maskedImage).mean)\n",
    "print(task2.run(maskedImage).mean)"
   ]
  },
  {
   "cell_type": "code",
   "execution_count": 4,
   "metadata": {},
   "outputs": [],
   "source": [
    "# Configs are validated. Should Raise:\n",
    "# config3 = ExampleSigmaClippedStatsTask.ConfigClass(numSigmaClip=\"ten\")"
   ]
  },
  {
   "cell_type": "code",
   "execution_count": null,
   "metadata": {},
   "outputs": [],
   "source": []
  }
 ],
 "metadata": {
  "kernelspec": {
   "display_name": "Python 3",
   "language": "python",
   "name": "python3"
  },
  "language_info": {
   "codemirror_mode": {
    "name": "ipython",
    "version": 3
   },
   "file_extension": ".py",
   "mimetype": "text/x-python",
   "name": "python",
   "nbconvert_exporter": "python",
   "pygments_lexer": "ipython3",
   "version": "3.7.2"
  }
 },
 "nbformat": 4,
 "nbformat_minor": 2
}
